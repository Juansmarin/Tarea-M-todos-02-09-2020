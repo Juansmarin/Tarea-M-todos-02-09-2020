{
 "cells": [
  {
   "cell_type": "markdown",
   "metadata": {},
   "source": [
    "## Sebastián Marín"
   ]
  },
  {
   "cell_type": "code",
   "execution_count": 1,
   "metadata": {},
   "outputs": [],
   "source": [
    "from sympy import * \n",
    "from sympy.plotting import *\n",
    "init_printing(use_latex=True)  "
   ]
  },
  {
   "cell_type": "markdown",
   "metadata": {},
   "source": [
    "## 2.2\n",
    "\n",
    "Se descubre que la utilidad por\n",
    "acre de cierto cultivo de trigo es\n",
    "$$P =40L + 5S + 20F - 3L^2 - S^ 2 - 2F^2 - 4SF$$\n",
    "en donde L es el costo de la mano de obra, S es el costo de\n",
    "la semilla y F es el costo del fertilizante. \n",
    "\n",
    "Calcule $P_L$, $P_S$, $P_F$, \n",
    " y evalúelas cuando $L = 10$, $S = 3$ y $F = 4$.\n",
    " \n",
    "Interprete estas derivadas."
   ]
  },
  {
   "cell_type": "code",
   "execution_count": 2,
   "metadata": {},
   "outputs": [],
   "source": [
    "L, S, F= symbols(\"L,S,F\")"
   ]
  },
  {
   "cell_type": "code",
   "execution_count": 3,
   "metadata": {},
   "outputs": [
    {
     "data": {
      "image/png": "[encoded data removed]",
      "text/latex": [
       "$\\displaystyle - 2 F^{2} - 4 F S + 20 F - 3 L^{2} + 40 L - S^{2} + 5 S$"
      ],
      "text/plain": [
       "     2                     2           2      \n",
       "- 2⋅F  - 4⋅F⋅S + 20⋅F - 3⋅L  + 40⋅L - S  + 5⋅S"
      ]
     },
     "execution_count": 3,
     "metadata": {},
     "output_type": "execute_result"
    }
   ],
   "source": [
    "P=40*L+5*S+20*F-3*L**2-S**2-2*F**2-4*S*F\n",
    "P"
   ]
  },
  {
   "cell_type": "code",
   "execution_count": 6,
   "metadata": {},
   "outputs": [
    {
     "data": {
      "image/png": "[encoded data removed]",
      "text/latex": [
       "$\\displaystyle 40 - 6 L$"
      ],
      "text/plain": [
       "40 - 6⋅L"
      ]
     },
     "execution_count": 6,
     "metadata": {},
     "output_type": "execute_result"
    }
   ],
   "source": [
    "dfL=diff(P, L)\n",
    "dfL"
   ]
  },
  {
   "cell_type": "code",
   "execution_count": 7,
   "metadata": {},
   "outputs": [
    {
     "data": {
      "image/png": "[encoded data removed]",
      "text/latex": [
       "$\\displaystyle -20$"
      ],
      "text/plain": [
       "-20"
      ]
     },
     "execution_count": 7,
     "metadata": {},
     "output_type": "execute_result"
    }
   ],
   "source": [
    "dfL.subs([(L,10),(S,3),(F,4)])"
   ]
  },
  {
   "cell_type": "markdown",
   "metadata": {},
   "source": [
    "Significa que la utilidad por acre disminuye aproximadamente 20 unidades si aplicamos un cambio en  costo mano de obra de 10 a 11 unidades"
   ]
  },
  {
   "cell_type": "code",
   "execution_count": 8,
   "metadata": {},
   "outputs": [
    {
     "data": {
      "image/png": "[encoded data removed]",
      "text/latex": [
       "$\\displaystyle - 4 F - 4 S + 20$"
      ],
      "text/plain": [
       "-4⋅F - 4⋅S + 20"
      ]
     },
     "execution_count": 8,
     "metadata": {},
     "output_type": "execute_result"
    }
   ],
   "source": [
    "dfF=diff(P, F)\n",
    "dfF"
   ]
  },
  {
   "cell_type": "code",
   "execution_count": 9,
   "metadata": {},
   "outputs": [
    {
     "data": {
      "image/png": "[encoded data removed]",
      "text/latex": [
       "$\\displaystyle -8$"
      ],
      "text/plain": [
       "-8"
      ]
     },
     "execution_count": 9,
     "metadata": {},
     "output_type": "execute_result"
    }
   ],
   "source": [
    "dfF.subs([(L,10),(S,3),(F,4)])"
   ]
  },
  {
   "cell_type": "markdown",
   "metadata": {},
   "source": [
    "Significa que la utilidad por acre disminuye aproximadamente 8 unidades si aplicamos un cambio en  costo de la semilla de 4 a 5 unidades"
   ]
  },
  {
   "cell_type": "code",
   "execution_count": 10,
   "metadata": {},
   "outputs": [
    {
     "data": {
      "image/png": "[encoded data removed]",
      "text/latex": [
       "$\\displaystyle - 4 F - 2 S + 5$"
      ],
      "text/plain": [
       "-4⋅F - 2⋅S + 5"
      ]
     },
     "execution_count": 10,
     "metadata": {},
     "output_type": "execute_result"
    }
   ],
   "source": [
    "dfS=diff(P, S)\n",
    "dfS"
   ]
  },
  {
   "cell_type": "code",
   "execution_count": 11,
   "metadata": {},
   "outputs": [
    {
     "data": {
      "image/png": "[encoded data removed]",
      "text/latex": [
       "$\\displaystyle -17$"
      ],
      "text/plain": [
       "-17"
      ]
     },
     "execution_count": 11,
     "metadata": {},
     "output_type": "execute_result"
    }
   ],
   "source": [
    "dfS.subs([(L,10),(S,3),(F,4)])"
   ]
  },
  {
   "cell_type": "markdown",
   "metadata": {},
   "source": [
    "Significa que la utilidad por acre  disminuye aproximadamente 17 unidades si aplicamos un cambio en  costo de la semilla de 3 a 4 unidades"
   ]
  },
  {
   "cell_type": "markdown",
   "metadata": {},
   "source": [
    "## 3.3\n",
    "\n",
    "Las demandas $x_A$ y $x_B$ de los productos $A$ y $B$ están dadas por las funciones\n",
    "\n",
    "$$x_A= 150 - 0.3p^2_B - 2p^2_A;\\ \\ \\ x_B = 200 - 0.2p^2_A - 3p^2_B$$\n",
    "\n",
    "en donde $p_A$ y $p_B$ son los precios unitarios de $A$ y $B$, respectivamente. \n",
    "\n",
    "Determine las cuatro funciones de demanda marginal e investigue si los productos $A$ y $B$ son competitivos o complementarios entre sí."
   ]
  },
  {
   "cell_type": "code",
   "execution_count": 14,
   "metadata": {},
   "outputs": [],
   "source": [
    "Xa,Xb,Pa,Pb=symbols(\"Xa, Xb, Pa, Pb\")"
   ]
  },
  {
   "cell_type": "code",
   "execution_count": 15,
   "metadata": {},
   "outputs": [
    {
     "data": {
      "image/png": "[encoded data removed]",
      "text/latex": [
       "$\\displaystyle - 2 Pa^{2} - 0.3 Pb^{2} + 150$"
      ],
      "text/plain": [
       "      2         2      \n",
       "- 2⋅Pa  - 0.3⋅Pb  + 150"
      ]
     },
     "execution_count": 15,
     "metadata": {},
     "output_type": "execute_result"
    }
   ],
   "source": [
    "Xa=150-0.3*Pb**2-2*Pa**2\n",
    "Xa"
   ]
  },
  {
   "cell_type": "code",
   "execution_count": 16,
   "metadata": {},
   "outputs": [
    {
     "data": {
      "image/png": "[encoded data removed]",
      "text/latex": [
       "$\\displaystyle - 0.6 Pb$"
      ],
      "text/plain": [
       "-0.6⋅Pb"
      ]
     },
     "execution_count": 16,
     "metadata": {},
     "output_type": "execute_result"
    }
   ],
   "source": [
    "dXaPb=diff(Xa, Pb)\n",
    "dXaPb"
   ]
  },
  {
   "cell_type": "code",
   "execution_count": 19,
   "metadata": {},
   "outputs": [
    {
     "data": {
      "image/png": "[encoded data removed]",
      "text/latex": [
       "$\\displaystyle - 0.2 Pa^{2} - 3 Pb^{2} + 200$"
      ],
      "text/plain": [
       "        2       2      \n",
       "- 0.2⋅Pa  - 3⋅Pb  + 200"
      ]
     },
     "execution_count": 19,
     "metadata": {},
     "output_type": "execute_result"
    }
   ],
   "source": [
    "Xb=200-0.2*Pa**2-3*Pb**2\n",
    "Xb"
   ]
  },
  {
   "cell_type": "code",
   "execution_count": 20,
   "metadata": {},
   "outputs": [
    {
     "data": {
      "image/png": "[encoded data removed]",
      "text/latex": [
       "$\\displaystyle - 0.4 Pa$"
      ],
      "text/plain": [
       "-0.4⋅Pa"
      ]
     },
     "execution_count": 20,
     "metadata": {},
     "output_type": "execute_result"
    }
   ],
   "source": [
    "dXbPa=diff(Xb, Pa)\n",
    "dXbPa"
   ]
  },
  {
   "cell_type": "markdown",
   "metadata": {},
   "source": [
    "Los productos A y B son complementarios entre sí."
   ]
  },
  {
   "cell_type": "markdown",
   "metadata": {},
   "source": [
    "## 3.6\n",
    "\n",
    "En el caso de las siguientes\n",
    "funciones de demanda del producto A, determine $\\eta_{p_A}$ y $\\eta_{p_B}$\n",
    "en los niveles de precio dados para los dos productos relacionados\n",
    "A y B.\n",
    "\n",
    "1. $x_A = 250 + 0.3p_B + 2p^2_A; p_A = 5, p_B =40$\n",
    "2. $x_A = \\cfrac{60p_B}{\\sqrt{p_A}}; p_A = 9, p_B =2$\n",
    "\n",
    "En cada caso interprete sus resultados."
   ]
  },
  {
   "cell_type": "markdown",
   "metadata": {},
   "source": [
    "# 1"
   ]
  },
  {
   "cell_type": "code",
   "execution_count": 2,
   "metadata": {},
   "outputs": [],
   "source": [
    "pA,pB = symbols(\"pA,pB\")"
   ]
  },
  {
   "cell_type": "code",
   "execution_count": 3,
   "metadata": {},
   "outputs": [
    {
     "data": {
      "image/png": "[encoded data removed]",
      "text/latex": [
       "$\\displaystyle 2 pA^{2} + 0.3 pB + 250$"
      ],
      "text/plain": [
       "    2               \n",
       "2⋅pA  + 0.3⋅pB + 250"
      ]
     },
     "execution_count": 3,
     "metadata": {},
     "output_type": "execute_result"
    }
   ],
   "source": [
    "xA=250+0.3*pB+2*pA**2\n",
    "xA"
   ]
  },
  {
   "cell_type": "code",
   "execution_count": 4,
   "metadata": {},
   "outputs": [
    {
     "data": {
      "image/png": "[encoded data removed]",
      "text/latex": [
       "$\\displaystyle 4 pA$"
      ],
      "text/plain": [
       "4⋅pA"
      ]
     },
     "execution_count": 4,
     "metadata": {},
     "output_type": "execute_result"
    }
   ],
   "source": [
    "dxApA=diff(xA,pA)\n",
    "dxApA"
   ]
  },
  {
   "cell_type": "code",
   "execution_count": 5,
   "metadata": {},
   "outputs": [
    {
     "data": {
      "image/png": "[encoded data removed]",
      "text/latex": [
       "$\\displaystyle 0.3$"
      ],
      "text/plain": [
       "0.300000000000000"
      ]
     },
     "execution_count": 5,
     "metadata": {},
     "output_type": "execute_result"
    }
   ],
   "source": [
    "dxApB=diff(xA,pB)\n",
    "dxApB"
   ]
  },
  {
   "cell_type": "code",
   "execution_count": 6,
   "metadata": {},
   "outputs": [
    {
     "data": {
      "image/png": "[encoded data removed]",
      "text/latex": [
       "$\\displaystyle \\frac{4 pA^{2}}{2 pA^{2} + 0.3 pB + 250}$"
      ],
      "text/plain": [
       "           2        \n",
       "       4⋅pA         \n",
       "────────────────────\n",
       "    2               \n",
       "2⋅pA  + 0.3⋅pB + 250"
      ]
     },
     "execution_count": 6,
     "metadata": {},
     "output_type": "execute_result"
    }
   ],
   "source": [
    "npA=(dxApA)/(xA/pA)\n",
    "npA"
   ]
  },
  {
   "cell_type": "code",
   "execution_count": 7,
   "metadata": {},
   "outputs": [
    {
     "data": {
      "image/png": "[encoded data removed]",
      "text/latex": [
       "$\\displaystyle 0.32051282051282$"
      ],
      "text/plain": [
       "0.320512820512820"
      ]
     },
     "execution_count": 7,
     "metadata": {},
     "output_type": "execute_result"
    }
   ],
   "source": [
    "npA.subs([(pA, 5),(pB, 40)])"
   ]
  },
  {
   "cell_type": "markdown",
   "metadata": {},
   "source": [
    "Podemos decir que un incremento aproximado del 1% en el precio de A\n",
    "provocará un aumento del 0.32% en la demanda de este producto. "
   ]
  },
  {
   "cell_type": "code",
   "execution_count": 8,
   "metadata": {},
   "outputs": [
    {
     "data": {
      "image/png": "[encoded data removed]",
      "text/latex": [
       "$\\displaystyle \\frac{0.3 pB}{2 pA^{2} + 0.3 pB + 250}$"
      ],
      "text/plain": [
       "       0.3⋅pB       \n",
       "────────────────────\n",
       "    2               \n",
       "2⋅pA  + 0.3⋅pB + 250"
      ]
     },
     "execution_count": 8,
     "metadata": {},
     "output_type": "execute_result"
    }
   ],
   "source": [
    "npB=(dxApB)/(xA/pB)\n",
    "npB"
   ]
  },
  {
   "cell_type": "code",
   "execution_count": 9,
   "metadata": {},
   "outputs": [
    {
     "data": {
      "image/png": "[encoded data removed]",
      "text/latex": [
       "$\\displaystyle 0.0384615384615385$"
      ],
      "text/plain": [
       "0.0384615384615385"
      ]
     },
     "execution_count": 9,
     "metadata": {},
     "output_type": "execute_result"
    }
   ],
   "source": [
    "npB.subs([(pA, 5),(pB, 40)])"
   ]
  },
  {
   "cell_type": "markdown",
   "metadata": {},
   "source": [
    "Un incremento\n",
    "del 1% en el precio de B da como resultado un aumento del 0.038% en la\n",
    "demanda de A. "
   ]
  },
  {
   "cell_type": "markdown",
   "metadata": {},
   "source": [
    "# 2"
   ]
  },
  {
   "cell_type": "code",
   "execution_count": 10,
   "metadata": {},
   "outputs": [
    {
     "data": {
      "image/png": "[encoded data removed]",
      "text/latex": [
       "$\\displaystyle \\frac{60 pB}{pA^{0.5}}$"
      ],
      "text/plain": [
       "     -0.5   \n",
       "60⋅pA    ⋅pB"
      ]
     },
     "execution_count": 10,
     "metadata": {},
     "output_type": "execute_result"
    }
   ],
   "source": [
    "xA=(60*pB)/(pA)**0.5\n",
    "xA"
   ]
  },
  {
   "cell_type": "code",
   "execution_count": 11,
   "metadata": {},
   "outputs": [
    {
     "data": {
      "image/png": "[encoded data removed]",
      "text/latex": [
       "$\\displaystyle - \\frac{30.0 pB}{pA^{1.5}}$"
      ],
      "text/plain": [
       "        -1.5   \n",
       "-30.0⋅pA    ⋅pB"
      ]
     },
     "execution_count": 11,
     "metadata": {},
     "output_type": "execute_result"
    }
   ],
   "source": [
    "dxApA=diff(xA,pA)\n",
    "dxApA"
   ]
  },
  {
   "cell_type": "code",
   "execution_count": 12,
   "metadata": {},
   "outputs": [
    {
     "data": {
      "image/png": "[encoded data removed]",
      "text/latex": [
       "$\\displaystyle \\frac{60}{pA^{0.5}}$"
      ],
      "text/plain": [
       "     -0.5\n",
       "60⋅pA    "
      ]
     },
     "execution_count": 12,
     "metadata": {},
     "output_type": "execute_result"
    }
   ],
   "source": [
    "dxApB=diff(xA,pB)\n",
    "dxApB"
   ]
  },
  {
   "cell_type": "code",
   "execution_count": 13,
   "metadata": {},
   "outputs": [
    {
     "data": {
      "image/png": "[encoded data removed]",
      "text/latex": [
       "$\\displaystyle -0.5$"
      ],
      "text/plain": [
       "-0.500000000000000"
      ]
     },
     "execution_count": 13,
     "metadata": {},
     "output_type": "execute_result"
    }
   ],
   "source": [
    "npA=(dxApA)/(xA/pA)\n",
    "npA"
   ]
  },
  {
   "cell_type": "code",
   "execution_count": 14,
   "metadata": {},
   "outputs": [
    {
     "data": {
      "image/png": "[encoded data removed]",
      "text/latex": [
       "$\\displaystyle -0.5$"
      ],
      "text/plain": [
       "-0.500000000000000"
      ]
     },
     "execution_count": 14,
     "metadata": {},
     "output_type": "execute_result"
    }
   ],
   "source": [
    "npA.subs([(pA, 9),(pB, 2)])"
   ]
  },
  {
   "cell_type": "markdown",
   "metadata": {},
   "source": [
    "Podemos decir que un incremento aproximado del 1% en el precio de A\n",
    "provocará una caída del 0.5% en la demanda de este producto. Es decir es inelastico"
   ]
  },
  {
   "cell_type": "code",
   "execution_count": 15,
   "metadata": {},
   "outputs": [
    {
     "data": {
      "image/png": "[encoded data removed]",
      "text/latex": [
       "$\\displaystyle 1$"
      ],
      "text/plain": [
       "1"
      ]
     },
     "execution_count": 15,
     "metadata": {},
     "output_type": "execute_result"
    }
   ],
   "source": [
    "npB=(dxApB)/(xA/pB)\n",
    "npB"
   ]
  },
  {
   "cell_type": "code",
   "execution_count": 16,
   "metadata": {},
   "outputs": [
    {
     "data": {
      "image/png": "[encoded data removed]",
      "text/latex": [
       "$\\displaystyle 1$"
      ],
      "text/plain": [
       "1"
      ]
     },
     "execution_count": 16,
     "metadata": {},
     "output_type": "execute_result"
    }
   ],
   "source": [
    "npB.subs([(pA, 9),(pB, 2)])"
   ]
  },
  {
   "cell_type": "markdown",
   "metadata": {},
   "source": [
    "Un incremento\n",
    "del 1% en el precio de B da como resultado un aumento del 1% en la\n",
    "demanda de A. "
   ]
  }
 ],
 "metadata": {
  "kernelspec": {
   "display_name": "Python 3",
   "language": "python",
   "name": "python3"
  },
  "language_info": {
   "codemirror_mode": {
    "name": "ipython",
    "version": 3
   },
   "file_extension": ".py",
   "mimetype": "text/x-python",
   "name": "python",
   "nbconvert_exporter": "python",
   "pygments_lexer": "ipython3",
   "version": "3.7.6"
  },
  "widgets": {
   "application/vnd.jupyter.widget-state+json": {
    "state": {},
    "version_major": 2,
    "version_minor": 0
   }
  }
 },
 "nbformat": 4,
 "nbformat_minor": 4
}
